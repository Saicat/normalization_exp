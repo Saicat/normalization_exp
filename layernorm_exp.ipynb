{
 "cells": [
  {
   "cell_type": "code",
   "execution_count": 1,
   "id": "6daa0316",
   "metadata": {},
   "outputs": [
    {
     "name": "stderr",
     "output_type": "stream",
     "text": [
      "/Users/hzl/anaconda3/lib/python3.10/site-packages/tqdm/auto.py:22: TqdmWarning: IProgress not found. Please update jupyter and ipywidgets. See https://ipywidgets.readthedocs.io/en/stable/user_install.html\n",
      "  from .autonotebook import tqdm as notebook_tqdm\n"
     ]
    }
   ],
   "source": [
    "# import transformers\n",
    "import torch\n",
    "from torch import nn"
   ]
  },
  {
   "cell_type": "code",
   "execution_count": 2,
   "id": "9a871016",
   "metadata": {},
   "outputs": [],
   "source": [
    "# epsilon\n",
    "eps = 1e-8"
   ]
  },
  {
   "cell_type": "markdown",
   "id": "2a5a2a1e",
   "metadata": {},
   "source": [
    "# 1.二维数据的情况"
   ]
  },
  {
   "cell_type": "code",
   "execution_count": 3,
   "id": "26fd0fa8",
   "metadata": {},
   "outputs": [
    {
     "name": "stdout",
     "output_type": "stream",
     "text": [
      "二维输入:\n",
      " tensor([[ 1.5410, -0.2934, -2.1788,  0.5684],\n",
      "        [-1.0845, -1.3986,  0.4033,  0.8380],\n",
      "        [-0.7193, -0.4033, -0.5966,  0.1820]])\n"
     ]
    }
   ],
   "source": [
    "# 定义一个随机二维输入\n",
    "batch_size = 3\n",
    "feature_num = 4\n",
    "torch.manual_seed(0)  # 设置随机种子，方便复现\n",
    "inputs = torch.randn(batch_size, feature_num)\n",
    "print('二维输入:\\n', inputs)"
   ]
  },
  {
   "cell_type": "markdown",
   "id": "b4868910",
   "metadata": {},
   "source": [
    "## 1.1.torch batchnorm"
   ]
  },
  {
   "cell_type": "code",
   "execution_count": 4,
   "id": "ba5f0b4c",
   "metadata": {},
   "outputs": [
    {
     "name": "stdout",
     "output_type": "stream",
     "text": [
      "weight:\n",
      " Parameter containing:\n",
      "tensor([0.6614, 0.2669, 0.0617, 0.6213], requires_grad=True)\n",
      "bias:\n",
      " Parameter containing:\n",
      "tensor([-0.4519, -0.1661, -1.5228,  0.3817], requires_grad=True) \n",
      "\n",
      "torch bn结果:\n",
      " tensor([[ 0.4756,  0.0513, -1.6033,  0.4715],\n",
      "        [-1.0197, -0.5421, -1.4535,  1.0937],\n",
      "        [-0.8117, -0.0077, -1.5115, -0.4202]],\n",
      "       grad_fn=<NativeBatchNormBackward0>)\n"
     ]
    }
   ],
   "source": [
    "# torch自带的batchnorm\n",
    "torch_bn = nn.BatchNorm1d(num_features=feature_num, affine=True)  # 注意完整的batchnorm要包括仿射变换\n",
    "\n",
    "# 仿射变化初始化的weigh=1，bias=0，相当于没有进行变换，看不出效果\n",
    "# 手动改成别的值，用于对比包含仿射变换的效果\n",
    "torch.manual_seed(1)  # 设置随机种子，方便复现\n",
    "torch_bn.weight = nn.Parameter(torch_bn.weight * torch.randn(feature_num))\n",
    "torch_bn.bias = nn.Parameter(torch_bn.bias + torch.randn(feature_num))\n",
    "print('weight:\\n', torch_bn.weight)\n",
    "print('bias:\\n', torch_bn.bias, '\\n')\n",
    "\n",
    "# 结果\n",
    "torch_normed = torch_bn(inputs)\n",
    "print('torch bn结果:\\n', torch_normed)"
   ]
  },
  {
   "cell_type": "markdown",
   "id": "effd7f46",
   "metadata": {},
   "source": [
    "## 1.2.manual batchnorm"
   ]
  },
  {
   "cell_type": "code",
   "execution_count": 5,
   "id": "a1785d73",
   "metadata": {},
   "outputs": [
    {
     "name": "stdout",
     "output_type": "stream",
     "text": [
      "均值:\n",
      " tensor([[-0.0876, -0.6985, -0.7907,  0.5295]])\n",
      "标准差:\n",
      " tensor([[1.1612, 0.4971, 1.0630, 0.2692]]) \n",
      "\n",
      "手动bn结果:\n",
      " tensor([[ 0.4756,  0.0514, -1.6033,  0.4715],\n",
      "        [-1.0197, -0.5421, -1.4535,  1.0937],\n",
      "        [-0.8117, -0.0077, -1.5115, -0.4202]], grad_fn=<AddBackward0>)\n",
      "验证结果:\n",
      " tensor([[True, True, True, True],\n",
      "        [True, True, True, True],\n",
      "        [True, True, True, True]])\n"
     ]
    }
   ],
   "source": [
    "# 手动bn\n",
    "\n",
    "# 计算均值和标准差\n",
    "mean = torch.mean(inputs, dim=0, keepdim=True)\n",
    "print('均值:\\n', mean)\n",
    "std = torch.std(inputs, dim=0, keepdim=True, unbiased=False)\n",
    "print('标准差:\\n', std, '\\n')\n",
    "\n",
    "manual_normed = (inputs - mean) / (std + eps) * torch_bn.weight + torch_bn.bias\n",
    "print('手动bn结果:\\n', manual_normed)\n",
    "\n",
    "# 手动操作和torch自带操作有点误差，<1e-4\n",
    "isclose = torch.isclose(torch_normed, manual_normed, rtol=1e-4, atol=1e-4)\n",
    "print('验证结果:\\n', isclose)"
   ]
  },
  {
   "cell_type": "markdown",
   "id": "b37683e7",
   "metadata": {},
   "source": [
    "## 1.3.torch layernorm"
   ]
  },
  {
   "cell_type": "code",
   "execution_count": 6,
   "id": "b4082a9c",
   "metadata": {},
   "outputs": [
    {
     "name": "stdout",
     "output_type": "stream",
     "text": [
      "weight:\n",
      " Parameter containing:\n",
      "tensor([ 0.3923, -0.2236, -0.3195, -1.2050], requires_grad=True)\n",
      "bias:\n",
      " Parameter containing:\n",
      "tensor([ 1.0445, -0.6332,  0.5731,  0.5409], requires_grad=True) \n",
      "\n",
      "torch ln结果:\n",
      " tensor([[ 1.5120, -0.6001,  1.0604, -0.0392],\n",
      "        [ 0.7249, -0.3772,  0.3331, -0.9155],\n",
      "        [ 0.6645, -0.6209,  0.7693, -1.4324]],\n",
      "       grad_fn=<NativeLayerNormBackward0>)\n"
     ]
    }
   ],
   "source": [
    "# torch自带的layernorm\n",
    "torch_ln = nn.LayerNorm(normalized_shape=feature_num, elementwise_affine=True)  # 注意完整的layernorm要包括仿射变换\n",
    "\n",
    "# 仿射变化初始化的weigh=1，bias=0，相当于没有进行变换，看不出效果\n",
    "# 手动改成别的值，用于对比包含仿射变换的效果\n",
    "torch.manual_seed(2)  # 设置随机种子，方便复现\n",
    "torch_ln.weight = nn.Parameter(torch_ln.weight * torch.randn(feature_num))\n",
    "torch_ln.bias = nn.Parameter(torch_ln.bias + torch.randn(feature_num))\n",
    "print('weight:\\n', torch_ln.weight)\n",
    "print('bias:\\n', torch_ln.bias, '\\n')\n",
    "\n",
    "# 结果\n",
    "torch_normed = torch_ln(inputs)\n",
    "print('torch ln结果:\\n', torch_normed)"
   ]
  },
  {
   "cell_type": "markdown",
   "id": "fa8fc5e3",
   "metadata": {},
   "source": [
    "## 1.4.manual layernorm"
   ]
  },
  {
   "cell_type": "code",
   "execution_count": 7,
   "id": "348c4623",
   "metadata": {},
   "outputs": [
    {
     "name": "stdout",
     "output_type": "stream",
     "text": [
      "均值:\n",
      " tensor([[-0.0907],\n",
      "        [-0.3104],\n",
      "        [-0.3843]])\n",
      "标准差:\n",
      " tensor([[1.3691],\n",
      "        [0.9502],\n",
      "        [0.3458]]) \n",
      "\n",
      "手动ln结果:\n",
      " tensor([[ 1.5120, -0.6001,  1.0604, -0.0392],\n",
      "        [ 0.7249, -0.3772,  0.3331, -0.9155],\n",
      "        [ 0.6645, -0.6209,  0.7693, -1.4325]], grad_fn=<AddBackward0>)\n",
      "验证结果:\n",
      " tensor([[True, True, True, True],\n",
      "        [True, True, True, True],\n",
      "        [True, True, True, True]])\n"
     ]
    }
   ],
   "source": [
    "# 手动ln\n",
    "\n",
    "# 计算均值\n",
    "mean = torch.mean(inputs, dim=1, keepdim=True)\n",
    "print('均值:\\n', mean)\n",
    "std = torch.std(inputs, dim=1, keepdim=True, unbiased=False)\n",
    "print('标准差:\\n', std, '\\n')\n",
    "\n",
    "manual_normed = (inputs - mean) / (std + eps) * torch_ln.weight + torch_ln.bias\n",
    "print('手动ln结果:\\n', manual_normed)\n",
    "\n",
    "# 手动操作和torch自带操作有点误差，<1e-4\n",
    "isclose = torch.isclose(torch_normed, manual_normed, rtol=1e-4, atol=1e-4)\n",
    "print('验证结果:\\n', isclose)"
   ]
  },
  {
   "cell_type": "markdown",
   "id": "512e230b",
   "metadata": {},
   "source": [
    "# 2.CV数据的情况"
   ]
  },
  {
   "cell_type": "code",
   "execution_count": 8,
   "id": "1970636f",
   "metadata": {},
   "outputs": [
    {
     "name": "stdout",
     "output_type": "stream",
     "text": [
      "四维输入:\n",
      " tensor([[[[-0.0766,  0.3599, -0.7820],\n",
      "          [ 0.0715,  0.6648, -0.2868]],\n",
      "\n",
      "         [[ 1.6206, -1.5967,  0.4046],\n",
      "          [ 0.6113,  0.7604, -0.0336]]],\n",
      "\n",
      "\n",
      "        [[[-0.3448,  0.4937, -0.0776],\n",
      "          [-1.8054,  0.4851,  0.2052]],\n",
      "\n",
      "         [[ 0.3384,  1.3528,  0.3736],\n",
      "          [ 0.0134,  0.7737, -0.1092]]]])\n"
     ]
    }
   ],
   "source": [
    "# 定义一个随机四维输入，[N,C,H,W]\n",
    "batch_size = 2\n",
    "channel = 2\n",
    "height = 2\n",
    "width = 3\n",
    "torch.manual_seed(3)  # 设置随机种子，方便复现\n",
    "inputs = torch.randn(batch_size, channel, height, width)\n",
    "print('四维输入:\\n', inputs)"
   ]
  },
  {
   "cell_type": "markdown",
   "id": "5be88a0f",
   "metadata": {},
   "source": [
    "## 2.1.torch batchnorm"
   ]
  },
  {
   "cell_type": "code",
   "execution_count": 9,
   "id": "fcb434f2",
   "metadata": {},
   "outputs": [
    {
     "name": "stdout",
     "output_type": "stream",
     "text": [
      "weight:\n",
      " Parameter containing:\n",
      "tensor([-1.6053,  0.2325], requires_grad=True)\n",
      "bias:\n",
      " Parameter containing:\n",
      "tensor([2.2399, 0.8473], requires_grad=True) \n",
      "\n",
      "torch bn结果:\n",
      " tensor([[[[2.2043, 1.1275, 3.9442],\n",
      "          [1.8388, 0.3753, 2.7226]],\n",
      "\n",
      "         [[1.2185, 0.2591, 0.8559],\n",
      "          [0.9175, 0.9620, 0.7252]]],\n",
      "\n",
      "\n",
      "        [[[2.8658, 0.7975, 2.2066],\n",
      "          [6.4684, 0.8186, 1.5090]],\n",
      "\n",
      "         [[0.8362, 1.1387, 0.8467],\n",
      "          [0.7392, 0.9660, 0.7027]]]], grad_fn=<NativeBatchNormBackward0>)\n"
     ]
    }
   ],
   "source": [
    "# torch自带的batchnorm\n",
    "torch_bn = nn.BatchNorm2d(num_features=channel, affine=True)  # 注意完整的batchnorm要包括仿射变换\n",
    "\n",
    "# 仿射变化初始化的weigh=1，bias=0，相当于没有进行变换，看不出效果\n",
    "# 手动改成别的值，用于对比包含仿射变换的效果\n",
    "torch.manual_seed(4)  # 设置随机种子，方便复现\n",
    "torch_bn.weight = nn.Parameter(torch_bn.weight * torch.randn(channel))\n",
    "torch_bn.bias = nn.Parameter(torch_bn.bias + torch.randn(channel))\n",
    "print('weight:\\n', torch_bn.weight)\n",
    "print('bias:\\n', torch_bn.bias, '\\n')\n",
    "\n",
    "# 结果\n",
    "torch_normed = torch_bn(inputs)\n",
    "print('torch bn结果:\\n', torch_normed)"
   ]
  },
  {
   "cell_type": "markdown",
   "id": "44a145b5",
   "metadata": {},
   "source": [
    "## 2.2.manual batchnorm"
   ]
  },
  {
   "cell_type": "code",
   "execution_count": 10,
   "id": "8a3238a4",
   "metadata": {},
   "outputs": [
    {
     "name": "stdout",
     "output_type": "stream",
     "text": [
      "手动bn结果:\n",
      " tensor([[[[2.2043, 1.1275, 3.9442],\n",
      "          [1.8388, 0.3752, 2.7226]],\n",
      "\n",
      "         [[1.2185, 0.2591, 0.8559],\n",
      "          [0.9175, 0.9620, 0.7252]]],\n",
      "\n",
      "\n",
      "        [[[2.8658, 0.7975, 2.2066],\n",
      "          [6.4685, 0.8186, 1.5089]],\n",
      "\n",
      "         [[0.8362, 1.1387, 0.8467],\n",
      "          [0.7392, 0.9660, 0.7027]]]], grad_fn=<CatBackward0>)\n",
      "验证结果:\n",
      " tensor([[[[True, True, True],\n",
      "          [True, True, True]],\n",
      "\n",
      "         [[True, True, True],\n",
      "          [True, True, True]]],\n",
      "\n",
      "\n",
      "        [[[True, True, True],\n",
      "          [True, True, True]],\n",
      "\n",
      "         [[True, True, True],\n",
      "          [True, True, True]]]])\n"
     ]
    }
   ],
   "source": [
    "# 手动bn\n",
    "\n",
    "manual_normed = []\n",
    "# 每个channel分别处理\n",
    "for c in range(channel):\n",
    "    # 计算均值和标准差\n",
    "    mean = torch.mean(inputs[:, c, :, :])\n",
    "    std = torch.std(inputs[:, c, :, :], unbiased=False)\n",
    "    normed = (inputs[:, c, :, :] - mean) / (std + eps) * torch_bn.weight[c] + torch_bn.bias[c]\n",
    "    normed = normed.unsqueeze(1)\n",
    "    manual_normed.append(normed)\n",
    "manual_normed = torch.cat(manual_normed, 1)\n",
    "print('手动bn结果:\\n', manual_normed)\n",
    "\n",
    "# 手动操作和torch自带操作有点误差，<1e-4\n",
    "isclose = torch.isclose(torch_normed, manual_normed, rtol=1e-4, atol=1e-4)\n",
    "print('验证结果:\\n', isclose)"
   ]
  },
  {
   "cell_type": "markdown",
   "id": "ead498dc",
   "metadata": {},
   "source": [
    "## 2.3.torch layernorm"
   ]
  },
  {
   "cell_type": "code",
   "execution_count": 11,
   "id": "a15a174c",
   "metadata": {},
   "outputs": [
    {
     "name": "stdout",
     "output_type": "stream",
     "text": [
      "weight:\n",
      " Parameter containing:\n",
      "tensor([[[-0.4868, -0.6038, -0.5581],\n",
      "         [ 0.6675, -0.1974,  1.9428]],\n",
      "\n",
      "        [[-1.4017, -0.7626,  0.6312],\n",
      "         [-0.8991, -0.5578,  0.6907]]], requires_grad=True)\n",
      "bias:\n",
      " Parameter containing:\n",
      "tensor([[[ 0.2225, -0.6662,  0.6846],\n",
      "         [ 0.5740, -0.5829,  0.7679]],\n",
      "\n",
      "        [[ 0.0571, -1.1894, -0.5659],\n",
      "         [-0.8327,  0.9014,  0.2116]]], requires_grad=True) \n",
      "\n",
      "torch ln结果:\n",
      " tensor([[[[ 0.3594, -0.8338,  1.3456],\n",
      "          [ 0.5128, -0.7147, -0.3012]],\n",
      "\n",
      "         [[-2.5939,  0.5089, -0.3546],\n",
      "          [-1.3715,  0.4607,  0.0553]]],\n",
      "\n",
      "\n",
      "        [[[ 0.5477, -0.9583,  0.8526],\n",
      "          [-1.2112, -0.6760,  0.9378]],\n",
      "\n",
      "         [[-0.3219, -2.4580, -0.3647],\n",
      "          [-0.6744,  0.4171, -0.0264]]]], grad_fn=<NativeLayerNormBackward0>)\n"
     ]
    }
   ],
   "source": [
    "# torch自带的layernorm\n",
    "torch_ln = nn.LayerNorm(\n",
    "    normalized_shape=[channel, height, width], \n",
    "    elementwise_affine=True\n",
    ")  # 注意完整的layernorm要包括仿射变换\n",
    "\n",
    "# 仿射变化初始化的weigh=1，bias=0，相当于没有进行变换，看不出效果\n",
    "# 手动改成别的值，用于对比包含仿射变换的效果\n",
    "torch.manual_seed(5)  # 设置随机种子，方便复现\n",
    "torch_ln.weight = nn.Parameter(torch_ln.weight * torch.randn(channel, height, width))\n",
    "torch_ln.bias = nn.Parameter(torch_ln.bias + torch.randn(channel, height, width))\n",
    "print('weight:\\n', torch_ln.weight)\n",
    "print('bias:\\n', torch_ln.bias, '\\n')\n",
    "\n",
    "# 结果\n",
    "torch_normed = torch_ln(inputs)\n",
    "print('torch ln结果:\\n', torch_normed)"
   ]
  },
  {
   "cell_type": "markdown",
   "id": "5a532d59",
   "metadata": {},
   "source": [
    "## 2.4.manual layernorm"
   ]
  },
  {
   "cell_type": "code",
   "execution_count": 12,
   "id": "70c6b6b8",
   "metadata": {},
   "outputs": [
    {
     "name": "stdout",
     "output_type": "stream",
     "text": [
      "手动ln结果:\n",
      " tensor([[[[ 0.3594, -0.8338,  1.3456],\n",
      "          [ 0.5128, -0.7147, -0.3012]],\n",
      "\n",
      "         [[-2.5939,  0.5090, -0.3546],\n",
      "          [-1.3715,  0.4607,  0.0553]]],\n",
      "\n",
      "\n",
      "        [[[ 0.5477, -0.9583,  0.8527],\n",
      "          [-1.2112, -0.6760,  0.9378]],\n",
      "\n",
      "         [[-0.3219, -2.4581, -0.3647],\n",
      "          [-0.6744,  0.4171, -0.0264]]]], grad_fn=<CatBackward0>)\n",
      "验证结果:\n",
      " tensor([[[[True, True, True],\n",
      "          [True, True, True]],\n",
      "\n",
      "         [[True, True, True],\n",
      "          [True, True, True]]],\n",
      "\n",
      "\n",
      "        [[[True, True, True],\n",
      "          [True, True, True]],\n",
      "\n",
      "         [[True, True, True],\n",
      "          [True, True, True]]]])\n"
     ]
    }
   ],
   "source": [
    "# 手动ln\n",
    "\n",
    "manual_normed = []\n",
    "# 每个channel分别处理\n",
    "for b in range(batch_size):\n",
    "    # 计算均值和标准差\n",
    "    mean = torch.mean(inputs[b, :, :, :])\n",
    "    std = torch.std(inputs[b, :, :, :], unbiased=False)\n",
    "    normed = (inputs[b, :, :, :] - mean) / (std + eps) * torch_ln.weight + torch_ln.bias\n",
    "    normed = normed.unsqueeze(0)\n",
    "    manual_normed.append(normed)\n",
    "manual_normed = torch.cat(manual_normed, 0)\n",
    "print('手动ln结果:\\n', manual_normed)\n",
    "\n",
    "# 手动操作和torch自带操作有点误差，<1e-4\n",
    "isclose = torch.isclose(torch_normed, manual_normed, rtol=1e-4, atol=1e-4)\n",
    "print('验证结果:\\n', isclose)"
   ]
  },
  {
   "cell_type": "markdown",
   "id": "3a03346f",
   "metadata": {},
   "source": [
    "## 2.5.torch instancenorm"
   ]
  },
  {
   "cell_type": "code",
   "execution_count": 13,
   "id": "47f17cfb",
   "metadata": {},
   "outputs": [
    {
     "name": "stdout",
     "output_type": "stream",
     "text": [
      "weight:\n",
      " Parameter containing:\n",
      "tensor([-0.4868, -0.6038], requires_grad=True)\n",
      "bias:\n",
      " Parameter containing:\n",
      "tensor([-0.5581,  0.6675], requires_grad=True) \n",
      "\n",
      "torch in结果:\n",
      " tensor([[[[-0.4858, -0.9466,  0.2587],\n",
      "          [-0.6423, -1.2685, -0.2640]],\n",
      "\n",
      "         [[-0.1489,  1.8317,  0.5997],\n",
      "          [ 0.4724,  0.3807,  0.8695]]],\n",
      "\n",
      "\n",
      "        [[[-0.4525, -0.9706, -0.6177],\n",
      "          [ 0.4499, -0.9653, -0.7924]],\n",
      "\n",
      "         [[ 0.8137, -0.4360,  0.7704],\n",
      "          [ 1.2142,  0.2775,  1.3653]]]], grad_fn=<ViewBackward0>)\n"
     ]
    }
   ],
   "source": [
    "# torch自带的instancenorm\n",
    "torch_in = nn.InstanceNorm2d(num_features=channel, affine=True)  # 注意完整的instancenorm要包括仿射变换\n",
    "\n",
    "# 仿射变化初始化的weigh=1，bias=0，相当于没有进行变换，看不出效果\n",
    "# 手动改成别的值，用于对比包含仿射变换的效果\n",
    "torch.manual_seed(5)  # 设置随机种子，方便复现\n",
    "torch_in.weight = nn.Parameter(torch_in.weight * torch.randn(channel))\n",
    "torch_in.bias = nn.Parameter(torch_in.bias + torch.randn(channel))\n",
    "print('weight:\\n', torch_in.weight)\n",
    "print('bias:\\n', torch_in.bias, '\\n')\n",
    "\n",
    "# 结果\n",
    "torch_normed = torch_in(inputs)\n",
    "print('torch in结果:\\n', torch_normed)"
   ]
  },
  {
   "cell_type": "markdown",
   "id": "c88a7e8b",
   "metadata": {},
   "source": [
    "## 2.6.manual instancenorm"
   ]
  },
  {
   "cell_type": "code",
   "execution_count": 14,
   "id": "2c60ee51",
   "metadata": {},
   "outputs": [
    {
     "name": "stdout",
     "output_type": "stream",
     "text": [
      "手动in结果:\n",
      " tensor([[[[-0.4858, -0.9466,  0.2587],\n",
      "          [-0.6423, -1.2686, -0.2640]],\n",
      "\n",
      "         [[-0.1489,  1.8317,  0.5997],\n",
      "          [ 0.4724,  0.3807,  0.8695]]],\n",
      "\n",
      "\n",
      "        [[[-0.4525, -0.9706, -0.6177],\n",
      "          [ 0.4499, -0.9653, -0.7924]],\n",
      "\n",
      "         [[ 0.8138, -0.4360,  0.7704],\n",
      "          [ 1.2142,  0.2775,  1.3653]]]], grad_fn=<AddBackward0>)\n",
      "验证结果:\n",
      " tensor([[[[True, True, True],\n",
      "          [True, True, True]],\n",
      "\n",
      "         [[True, True, True],\n",
      "          [True, True, True]]],\n",
      "\n",
      "\n",
      "        [[[True, True, True],\n",
      "          [True, True, True]],\n",
      "\n",
      "         [[True, True, True],\n",
      "          [True, True, True]]]])\n"
     ]
    }
   ],
   "source": [
    "# 手动in\n",
    "\n",
    "mean = torch.mean(inputs, dim=(2, 3),keepdim=True)\n",
    "std = torch.std(inputs, dim=(2, 3), keepdim=True, unbiased=False)\n",
    "in_weight = torch_in.weight.unsqueeze(0).unsqueeze(-1).unsqueeze(-1)\n",
    "in_bias = torch_in.bias.unsqueeze(0).unsqueeze(-1).unsqueeze(-1)\n",
    "manual_normed = (inputs - mean) / (std + eps) * in_weight + in_bias\n",
    "print('手动in结果:\\n', manual_normed)\n",
    "\n",
    "# 手动操作和torch自带操作有点误差，<1e-4\n",
    "isclose = torch.isclose(torch_normed, manual_normed, rtol=1e-4, atol=1e-4)\n",
    "print('验证结果:\\n', isclose)"
   ]
  },
  {
   "cell_type": "markdown",
   "id": "4e23c1cc",
   "metadata": {},
   "source": [
    "# 3.NLP数据的情况"
   ]
  },
  {
   "cell_type": "code",
   "execution_count": 15,
   "id": "767ee7fe",
   "metadata": {},
   "outputs": [
    {
     "name": "stdout",
     "output_type": "stream",
     "text": [
      "三维输入:\n",
      " tensor([[[-1.2113,  0.6304, -1.4713, -1.3352],\n",
      "         [-0.4897,  0.1317,  0.3295,  0.3264],\n",
      "         [ 1.0322,  0.8266,  0.1186, -0.6232]],\n",
      "\n",
      "        [[-0.3106,  0.0627,  0.8672, -0.0738],\n",
      "         [-0.9251,  0.5594, -0.6340, -1.8015],\n",
      "         [ 0.6142,  1.0554, -0.7899,  0.2525]]])\n"
     ]
    }
   ],
   "source": [
    "# 定义一个随机三维输入，[N,S,H]\n",
    "batch_size = 2\n",
    "seq_len = 3\n",
    "hidden_size = 4\n",
    "torch.manual_seed(6)  # 设置随机种子，方便复现\n",
    "inputs = torch.randn(batch_size, seq_len, hidden_size)\n",
    "print('三维输入:\\n', inputs)"
   ]
  },
  {
   "cell_type": "markdown",
   "id": "8fb757bb",
   "metadata": {},
   "source": [
    "## 3.1.torch batchnorm"
   ]
  },
  {
   "cell_type": "code",
   "execution_count": 16,
   "id": "e3069ce0",
   "metadata": {},
   "outputs": [
    {
     "name": "stdout",
     "output_type": "stream",
     "text": [
      "weight:\n",
      " Parameter containing:\n",
      "tensor([-0.1468,  0.7861,  0.9468, -1.1143], requires_grad=True)\n",
      "bias:\n",
      " Parameter containing:\n",
      "tensor([ 1.6908, -0.8948, -0.3556,  1.2324], requires_grad=True) \n",
      "\n",
      "torch bn结果:\n",
      " tensor([[[ 1.8740, -0.7037, -1.8222,  2.3385],\n",
      "         [ 1.7413, -1.8119,  0.3641,  0.0200],\n",
      "         [ 1.4615, -0.2676,  0.1081,  1.3450]],\n",
      "\n",
      "        [[ 1.7084, -1.9653,  1.0169,  0.5785],\n",
      "         [ 1.8213, -0.8614, -0.8056,  2.9892],\n",
      "         [ 1.5383,  0.2409, -0.9949,  0.1231]]], grad_fn=<TransposeBackward0>)\n"
     ]
    }
   ],
   "source": [
    "# torch自带的batchnorm\n",
    "torch_bn = nn.BatchNorm1d(num_features=hidden_size, affine=True)  # 注意完整的batchnorm要包括仿射变换\n",
    "\n",
    "# 仿射变化初始化的weigh=1，bias=0，相当于没有进行变换，看不出效果\n",
    "# 手动改成别的值，用于对比包含仿射变换的效果\n",
    "torch.manual_seed(7)  # 设置随机种子，方便复现\n",
    "torch_bn.weight = nn.Parameter(torch_bn.weight * torch.randn(hidden_size))\n",
    "torch_bn.bias = nn.Parameter(torch_bn.bias + torch.randn(hidden_size))\n",
    "print('weight:\\n', torch_bn.weight)\n",
    "print('bias:\\n', torch_bn.bias, '\\n')\n",
    "\n",
    "# # 结果\n",
    "torch_normed = torch_bn(inputs.transpose(1, 2)).transpose(1, 2)\n",
    "print('torch bn结果:\\n', torch_normed)"
   ]
  },
  {
   "cell_type": "markdown",
   "id": "9fe61ef0",
   "metadata": {},
   "source": [
    "## 3.2.manual batchnorm"
   ]
  },
  {
   "cell_type": "code",
   "execution_count": 17,
   "id": "a32d8592",
   "metadata": {},
   "outputs": [
    {
     "name": "stdout",
     "output_type": "stream",
     "text": [
      "均值:\n",
      " tensor([[[-0.2151,  0.5444, -0.2633, -0.5424]]])\n",
      "标准差:\n",
      " tensor([[[0.7984, 0.3537, 0.7799, 0.7986]]]) \n",
      "\n",
      "手动bn结果:\n",
      " tensor([[[ 1.8740, -0.7037, -1.8222,  2.3385],\n",
      "         [ 1.7413, -1.8119,  0.3641,  0.0200],\n",
      "         [ 1.4615, -0.2676,  0.1081,  1.3450]],\n",
      "\n",
      "        [[ 1.7084, -1.9653,  1.0169,  0.5785],\n",
      "         [ 1.8213, -0.8614, -0.8056,  2.9892],\n",
      "         [ 1.5383,  0.2409, -0.9950,  0.1231]]], grad_fn=<AddBackward0>)\n",
      "验证结果:\n",
      " tensor([[[True, True, True, True],\n",
      "         [True, True, True, True],\n",
      "         [True, True, True, True]],\n",
      "\n",
      "        [[True, True, True, True],\n",
      "         [True, True, True, True],\n",
      "         [True, True, True, True]]])\n"
     ]
    }
   ],
   "source": [
    "# 手动bn\n",
    "\n",
    "# 计算均值\n",
    "mean = torch.mean(inputs, dim=(0, 1) , keepdim=True)\n",
    "print('均值:\\n', mean)\n",
    "std = torch.std(inputs, dim=(0, 1), keepdim=True, unbiased=False)\n",
    "print('标准差:\\n', std, '\\n')\n",
    "\n",
    "manual_normed = (inputs - mean) / (std + eps) * torch_bn.weight + torch_bn.bias\n",
    "print('手动bn结果:\\n', manual_normed)\n",
    "\n",
    "# 手动操作和torch自带操作有点误差，<1e-4\n",
    "isclose = torch.isclose(torch_normed, manual_normed, rtol=1e-4, atol=1e-4)\n",
    "print('验证结果:\\n', isclose)"
   ]
  },
  {
   "cell_type": "markdown",
   "id": "7cd25ac6",
   "metadata": {},
   "source": [
    "## 3.3.torch layernorm"
   ]
  },
  {
   "cell_type": "code",
   "execution_count": 18,
   "id": "a384aae7",
   "metadata": {},
   "outputs": [
    {
     "name": "stdout",
     "output_type": "stream",
     "text": [
      "weight:\n",
      " Parameter containing:\n",
      "tensor([ 0.2713, -1.2729,  0.5027,  0.4181], requires_grad=True)\n",
      "bias:\n",
      " Parameter containing:\n",
      "tensor([-0.6394, -0.6608, -0.1433, -0.1043], requires_grad=True) \n",
      "\n",
      "torch ln结果:\n",
      " tensor([[[-0.7547, -2.8528, -0.5092, -0.3423],\n",
      "         [-1.0957, -0.8780,  0.2388,  0.2097],\n",
      "         [-0.3502, -1.6158, -0.3133, -0.7224]],\n",
      "\n",
      "        [[-0.9134, -0.4490,  0.6868, -0.3029],\n",
      "         [-0.7116, -2.5589, -0.1039, -0.6493],\n",
      "         [-0.5076, -2.1031, -0.9346, -0.1230]]],\n",
      "       grad_fn=<NativeLayerNormBackward0>)\n"
     ]
    }
   ],
   "source": [
    "# torch自带的layernorm\n",
    "torch_ln = nn.LayerNorm(normalized_shape=hidden_size, elementwise_affine=True)  # 注意完整的layernorm要包括仿射变换\n",
    "\n",
    "# 仿射变化初始化的weigh=1，bias=0，相当于没有进行变换，看不出效果\n",
    "# 手动改成别的值，用于对比包含仿射变换的效果\n",
    "torch.manual_seed(8)  # 设置随机种子，方便复现\n",
    "torch_ln.weight = nn.Parameter(torch_ln.weight * torch.randn(hidden_size))\n",
    "torch_ln.bias = nn.Parameter(torch_ln.bias + torch.randn(hidden_size))\n",
    "print('weight:\\n', torch_ln.weight)\n",
    "print('bias:\\n', torch_ln.bias, '\\n')\n",
    "\n",
    "# 结果\n",
    "torch_normed = torch_ln(inputs)\n",
    "print('torch ln结果:\\n', torch_normed)"
   ]
  },
  {
   "cell_type": "markdown",
   "id": "0bd66458",
   "metadata": {},
   "source": [
    "## 3.4.manual layernorm"
   ]
  },
  {
   "cell_type": "code",
   "execution_count": 19,
   "id": "744f0510",
   "metadata": {},
   "outputs": [
    {
     "name": "stdout",
     "output_type": "stream",
     "text": [
      "均值:\n",
      " tensor([[[-0.8469],\n",
      "         [ 0.0745],\n",
      "         [ 0.3386]],\n",
      "\n",
      "        [[ 0.1364],\n",
      "         [-0.7003],\n",
      "         [ 0.2831]]])\n",
      "标准差:\n",
      " tensor([[[0.8578],\n",
      "         [0.3354],\n",
      "         [0.6505]],\n",
      "\n",
      "        [[0.4426],\n",
      "         [0.8448],\n",
      "         [0.6816]]]) \n",
      "\n",
      "手动ln结果:\n",
      " tensor([[[-0.7547, -2.8528, -0.5092, -0.3423],\n",
      "         [-1.0957, -0.8780,  0.2388,  0.2097],\n",
      "         [-0.3502, -1.6158, -0.3133, -0.7224]],\n",
      "\n",
      "        [[-0.9134, -0.4490,  0.6868, -0.3029],\n",
      "         [-0.7116, -2.5590, -0.1039, -0.6493],\n",
      "         [-0.5076, -2.1031, -0.9347, -0.1230]]], grad_fn=<AddBackward0>)\n",
      "验证结果:\n",
      " tensor([[[True, True, True, True],\n",
      "         [True, True, True, True],\n",
      "         [True, True, True, True]],\n",
      "\n",
      "        [[True, True, True, True],\n",
      "         [True, True, True, True],\n",
      "         [True, True, True, True]]])\n"
     ]
    }
   ],
   "source": [
    "# 手动ln\n",
    "\n",
    "# 计算均值\n",
    "mean = torch.mean(inputs, dim=2, keepdim=True)\n",
    "print('均值:\\n', mean)\n",
    "std = torch.std(inputs, dim=2, keepdim=True, unbiased=False)\n",
    "print('标准差:\\n', std, '\\n')\n",
    "\n",
    "manual_normed = (inputs - mean) / (std + eps) * torch_ln.weight + torch_ln.bias\n",
    "print('手动ln结果:\\n', manual_normed)\n",
    "\n",
    "# 手动操作和torch自带操作有点误差，<1e-4\n",
    "isclose = torch.isclose(torch_normed, manual_normed, rtol=1e-4, atol=1e-4)\n",
    "print('验证结果:\\n', isclose)"
   ]
  },
  {
   "cell_type": "markdown",
   "id": "927d9301",
   "metadata": {},
   "source": [
    "## 3.5.torch instancenorm"
   ]
  },
  {
   "cell_type": "code",
   "execution_count": 20,
   "id": "03853cf0",
   "metadata": {},
   "outputs": [
    {
     "name": "stdout",
     "output_type": "stream",
     "text": [
      "weight:\n",
      " Parameter containing:\n",
      "tensor([ 0.0447,  1.9112, -0.2310], requires_grad=True)\n",
      "bias:\n",
      " Parameter containing:\n",
      "tensor([0.3459, 1.3180, 0.3696], requires_grad=True) \n",
      "\n",
      "torch in结果:\n",
      " tensor([[[ 0.3269,  0.4230,  0.3134,  0.3205],\n",
      "         [-1.8964,  1.6442,  2.7709,  2.7534],\n",
      "         [ 0.1233,  0.1963,  0.4477,  0.7112]],\n",
      "\n",
      "        [[ 0.3008,  0.3385,  0.4198,  0.3247],\n",
      "         [ 0.8094,  4.1681,  1.4680, -1.1734],\n",
      "         [ 0.2574,  0.1079,  0.7333,  0.3800]]], grad_fn=<ViewBackward0>)\n"
     ]
    }
   ],
   "source": [
    "# torch自带的instancenorm\n",
    "torch_in = nn.InstanceNorm1d(num_features=seq_len, affine=True)  # 注意完整的instancenorm要包括仿射变换\n",
    "\n",
    "# 仿射变化初始化的weigh=1，bias=0，相当于没有进行变换，看不出效果\n",
    "# 手动改成别的值，用于对比包含仿射变换的效果\n",
    "torch.manual_seed(9)  # 设置随机种子，方便复现\n",
    "torch_in.weight = nn.Parameter(torch_in.weight * torch.randn(seq_len))\n",
    "torch_in.bias = nn.Parameter(torch_in.bias + torch.randn(seq_len))\n",
    "print('weight:\\n', torch_in.weight)\n",
    "print('bias:\\n', torch_in.bias, '\\n')\n",
    "\n",
    "# 结果\n",
    "torch_normed = torch_in(inputs)\n",
    "print('torch in结果:\\n', torch_normed)"
   ]
  },
  {
   "cell_type": "markdown",
   "id": "22bda69a",
   "metadata": {},
   "source": [
    "## 3.6.manual instancenorm"
   ]
  },
  {
   "cell_type": "code",
   "execution_count": 21,
   "id": "00523c8e",
   "metadata": {},
   "outputs": [
    {
     "name": "stdout",
     "output_type": "stream",
     "text": [
      "手动in结果:\n",
      " tensor([[[ 0.3269,  0.4230,  0.3134,  0.3205],\n",
      "         [-1.8965,  1.6442,  2.7710,  2.7535],\n",
      "         [ 0.1233,  0.1963,  0.4477,  0.7112]],\n",
      "\n",
      "        [[ 0.3008,  0.3385,  0.4198,  0.3247],\n",
      "         [ 0.8094,  4.1681,  1.4680, -1.1734],\n",
      "         [ 0.2574,  0.1079,  0.7333,  0.3800]]], grad_fn=<AddBackward0>)\n",
      "验证结果:\n",
      " tensor([[[True, True, True, True],\n",
      "         [True, True, True, True],\n",
      "         [True, True, True, True]],\n",
      "\n",
      "        [[True, True, True, True],\n",
      "         [True, True, True, True],\n",
      "         [True, True, True, True]]])\n"
     ]
    }
   ],
   "source": [
    "# 手动in\n",
    "\n",
    "mean = torch.mean(inputs, dim=2, keepdim=True)\n",
    "std = torch.std(inputs, dim=2, keepdim=True, unbiased=False)\n",
    "in_weight = torch_in.weight.unsqueeze(0).unsqueeze(-1)\n",
    "in_bias = torch_in.bias.unsqueeze(0).unsqueeze(-1)\n",
    "manual_normed = (inputs - mean) / (std + eps) * in_weight + in_bias\n",
    "print('手动in结果:\\n', manual_normed)\n",
    "\n",
    "# 手动操作和torch自带操作有点误差，<1e-4\n",
    "isclose = torch.isclose(torch_normed, manual_normed, rtol=1e-4, atol=1e-4)\n",
    "print('验证结果:\\n', isclose)"
   ]
  },
  {
   "cell_type": "markdown",
   "id": "8ac31633",
   "metadata": {},
   "source": [
    "# 能否变回去"
   ]
  },
  {
   "cell_type": "markdown",
   "id": "abc0360e",
   "metadata": {},
   "source": [
    "## 二维的情况"
   ]
  },
  {
   "cell_type": "code",
   "execution_count": 22,
   "id": "0bc72061",
   "metadata": {},
   "outputs": [
    {
     "name": "stdout",
     "output_type": "stream",
     "text": [
      "二维输入:\n",
      " tensor([[ 1.5410, -0.2934, -2.1788,  0.5684],\n",
      "        [-1.0845, -1.3986,  0.4033,  0.8380],\n",
      "        [-0.7193, -0.4033, -0.5966,  0.1820]])\n",
      "torch bn结果:\n",
      " tensor([[ 1.5410, -0.2934, -2.1788,  0.5684],\n",
      "        [-1.0845, -1.3986,  0.4033,  0.8380],\n",
      "        [-0.7193, -0.4033, -0.5966,  0.1821]],\n",
      "       grad_fn=<NativeBatchNormBackward0>)\n",
      "验证结果:\n",
      " tensor([[True, True, True, True],\n",
      "        [True, True, True, True],\n",
      "        [True, True, True, True]])\n"
     ]
    }
   ],
   "source": [
    "# 定义一个随机二维输入\n",
    "batch_size = 3\n",
    "feature_num = 4\n",
    "torch.manual_seed(0)  # 设置随机种子，方便复现\n",
    "inputs = torch.randn(batch_size, feature_num)\n",
    "print('二维输入:\\n', inputs)\n",
    "\n",
    "# 计算均值和标准差\n",
    "mean = torch.mean(inputs, dim=0, keepdim=True)\n",
    "# print('均值:\\n', mean)\n",
    "std = torch.std(inputs, dim=0, keepdim=True, unbiased=False)\n",
    "# print('标准差:\\n', std, '\\n')\n",
    "\n",
    "# torch自带的batchnorm\n",
    "torch_bn = nn.BatchNorm1d(num_features=feature_num, affine=True)\n",
    "\n",
    "# 把仿射变换的缩放和平移替换为标准差和均值\n",
    "torch_bn.weight = nn.Parameter(std)\n",
    "torch_bn.bias =  nn.Parameter(mean)\n",
    "# print('weight:\\n', torch_bn.weight)\n",
    "# print('bias:\\n', torch_bn.bias, '\\n')\n",
    "\n",
    "# 结果\n",
    "torch_normed = torch_bn(inputs)\n",
    "print('torch bn结果:\\n', torch_normed)\n",
    "\n",
    "isclose = torch.isclose(torch_normed, inputs, rtol=1e-4, atol=1e-4)\n",
    "print('验证结果:\\n', isclose)"
   ]
  },
  {
   "cell_type": "code",
   "execution_count": 23,
   "id": "0bab13bb",
   "metadata": {},
   "outputs": [
    {
     "name": "stdout",
     "output_type": "stream",
     "text": [
      "二维输入:\n",
      " tensor([[ 1.5410, -0.2934, -2.1788,  0.5684],\n",
      "        [-1.0845, -1.3986,  0.4033,  0.8380],\n",
      "        [-0.7193, -0.4033, -0.5966,  0.1820]])\n",
      "torch ln结果:\n",
      " tensor([[ 1.1918, -0.1481, -1.5251,  0.4814],\n",
      "        [-0.8146, -1.1451,  0.7512,  1.2086],\n",
      "        [-0.9685, -0.0551, -0.6140,  1.6376]],\n",
      "       grad_fn=<NativeLayerNormBackward0>)\n",
      "验证结果:\n",
      " tensor([[False, False, False, False],\n",
      "        [False, False, False, False],\n",
      "        [False, False, False, False]])\n"
     ]
    }
   ],
   "source": [
    "print('二维输入:\\n', inputs)\n",
    "\n",
    "# 计算均值和标准差\n",
    "mean = torch.mean(inputs, dim=1, keepdim=True)\n",
    "# print('均值:\\n', mean)\n",
    "std = torch.std(inputs, dim=1, keepdim=True, unbiased=False)\n",
    "# print('标准差:\\n', std, '\\n')\n",
    "\n",
    "# torch自带的layernorm\n",
    "torch_ln = nn.LayerNorm(normalized_shape=feature_num, elementwise_affine=True)  # 注意完整的layernorm要包括仿射变换\n",
    "\n",
    "# 把仿射变换的缩放和平移替换为标准差和均值\n",
    "torch_bn.weight = nn.Parameter(std)\n",
    "torch_bn.bias =  nn.Parameter(mean)\n",
    "# print('weight:\\n', torch_bn.weight)\n",
    "# print('bias:\\n', torch_bn.bias, '\\n')\n",
    "\n",
    "# 结果\n",
    "torch_normed = torch_ln(inputs)\n",
    "print('torch ln结果:\\n', torch_normed)\n",
    "\n",
    "isclose = torch.isclose(torch_normed, inputs, rtol=1e-4, atol=1e-4)\n",
    "print('验证结果:\\n', isclose)"
   ]
  },
  {
   "cell_type": "markdown",
   "id": "173ea1f3",
   "metadata": {},
   "source": [
    "## CV数据的情况"
   ]
  },
  {
   "cell_type": "code",
   "execution_count": 24,
   "id": "d72da45d",
   "metadata": {},
   "outputs": [
    {
     "name": "stdout",
     "output_type": "stream",
     "text": [
      "四维输入:\n",
      " tensor([[[[-0.0766,  0.3599, -0.7820],\n",
      "          [ 0.0715,  0.6648, -0.2868]],\n",
      "\n",
      "         [[ 1.6206, -1.5967,  0.4046],\n",
      "          [ 0.6113,  0.7604, -0.0336]]],\n",
      "\n",
      "\n",
      "        [[[-0.3448,  0.4937, -0.0776],\n",
      "          [-1.8054,  0.4851,  0.2052]],\n",
      "\n",
      "         [[ 0.3384,  1.3528,  0.3736],\n",
      "          [ 0.0134,  0.7737, -0.1092]]]])\n",
      "均值:\n",
      " tensor([[[[-0.0911]],\n",
      "\n",
      "         [[ 0.3758]]]])\n",
      "标准差:\n",
      " tensor([[[[0.6508]],\n",
      "\n",
      "         [[0.7796]]]]) \n",
      "\n",
      "weight:\n",
      " Parameter containing:\n",
      "tensor([[[[0.6508]],\n",
      "\n",
      "         [[0.7796]]]], requires_grad=True)\n",
      "bias:\n",
      " Parameter containing:\n",
      "tensor([[[[-0.0911]],\n",
      "\n",
      "         [[ 0.3758]]]], requires_grad=True) \n",
      "\n",
      "torch bn结果:\n",
      " tensor([[[[-0.0766,  0.3599, -0.7820],\n",
      "          [ 0.0715,  0.6648, -0.2868]],\n",
      "\n",
      "         [[ 1.6205, -1.5967,  0.4046],\n",
      "          [ 0.6113,  0.7604, -0.0336]]],\n",
      "\n",
      "\n",
      "        [[[-0.3448,  0.4936, -0.0776],\n",
      "          [-1.8053,  0.4851,  0.2052]],\n",
      "\n",
      "         [[ 0.3384,  1.3527,  0.3736],\n",
      "          [ 0.0134,  0.7737, -0.1092]]]], grad_fn=<NativeBatchNormBackward0>)\n",
      "验证结果:\n",
      " tensor([[[[True, True, True],\n",
      "          [True, True, True]],\n",
      "\n",
      "         [[True, True, True],\n",
      "          [True, True, True]]],\n",
      "\n",
      "\n",
      "        [[[True, True, True],\n",
      "          [True, True, True]],\n",
      "\n",
      "         [[True, True, True],\n",
      "          [True, True, True]]]])\n"
     ]
    }
   ],
   "source": [
    "# 定义一个随机四维输入，[N,C,H,W]\n",
    "batch_size = 2\n",
    "channel = 2\n",
    "height = 2\n",
    "width = 3\n",
    "torch.manual_seed(3)  # 设置随机种子，方便复现\n",
    "inputs = torch.randn(batch_size, channel, height, width)\n",
    "print('四维输入:\\n', inputs)\n",
    "\n",
    "# 计算均值和标准差\n",
    "mean = torch.mean(inputs, dim=(0, 2, 3), keepdim=True)\n",
    "print('均值:\\n', mean)\n",
    "std = torch.std(inputs, dim=(0, 2, 3), keepdim=True, unbiased=False)\n",
    "print('标准差:\\n', std, '\\n')\n",
    "\n",
    "# torch自带的batchnorm\n",
    "torch_bn = nn.BatchNorm2d(num_features=channel, affine=True)  # 注意完整的batchnorm要包括仿射变换\n",
    "\n",
    "# 把仿射变换的缩放和平移替换为标准差和均值\n",
    "torch_bn.weight = nn.Parameter(std)\n",
    "torch_bn.bias =  nn.Parameter(mean)\n",
    "print('weight:\\n', torch_bn.weight)\n",
    "print('bias:\\n', torch_bn.bias, '\\n')\n",
    "\n",
    "# 结果\n",
    "torch_normed = torch_bn(inputs)\n",
    "print('torch bn结果:\\n', torch_normed)\n",
    "\n",
    "isclose = torch.isclose(torch_normed, inputs, rtol=1e-4, atol=1e-4)\n",
    "print('验证结果:\\n', isclose)"
   ]
  },
  {
   "cell_type": "markdown",
   "id": "8bd07a7f",
   "metadata": {},
   "source": [
    "## NLP数据的情况"
   ]
  },
  {
   "cell_type": "code",
   "execution_count": 25,
   "id": "4394eb06",
   "metadata": {},
   "outputs": [
    {
     "name": "stdout",
     "output_type": "stream",
     "text": [
      "三维输入:\n",
      " tensor([[[-1.1963,  1.0280,  0.0719, -0.1845],\n",
      "         [-1.5159,  0.9125,  0.2539, -0.6924],\n",
      "         [-0.0752, -0.4233,  0.4217, -0.2576]],\n",
      "\n",
      "        [[-1.5835,  1.3960, -1.0319,  1.1391],\n",
      "         [ 0.5125, -0.0198, -1.1216, -0.4891],\n",
      "         [-0.6336, -0.7893, -0.8977, -1.8876]]])\n",
      "均值:\n",
      " tensor([[[-0.7487,  0.3507, -0.3840, -0.3953]]])\n",
      "标准差:\n",
      " tensor([[[0.7685, 0.8065, 0.6444, 0.8890]]]) \n",
      "\n",
      "weight:\n",
      " Parameter containing:\n",
      "tensor([0.7685, 0.8065, 0.6444, 0.8890], requires_grad=True)\n",
      "bias:\n",
      " Parameter containing:\n",
      "tensor([-0.7487,  0.3507, -0.3840, -0.3953], requires_grad=True) \n",
      "\n",
      "torch bn结果:\n",
      " tensor([[[-1.1963,  1.0280,  0.0719, -0.1845],\n",
      "         [-1.5159,  0.9125,  0.2539, -0.6924],\n",
      "         [-0.0752, -0.4233,  0.4217, -0.2576]],\n",
      "\n",
      "        [[-1.5835,  1.3960, -1.0319,  1.1391],\n",
      "         [ 0.5125, -0.0198, -1.1216, -0.4891],\n",
      "         [-0.6336, -0.7893, -0.8977, -1.8876]]], grad_fn=<TransposeBackward0>)\n",
      "验证结果:\n",
      " tensor([[[True, True, True, True],\n",
      "         [True, True, True, True],\n",
      "         [True, True, True, True]],\n",
      "\n",
      "        [[True, True, True, True],\n",
      "         [True, True, True, True],\n",
      "         [True, True, True, True]]])\n"
     ]
    }
   ],
   "source": [
    "# 定义一个随机三维输入，[N,S,H]\n",
    "batch_size = 2\n",
    "seq_len = 3\n",
    "hidden_size = 4\n",
    "inputs = torch.randn(batch_size, seq_len, hidden_size)\n",
    "print('三维输入:\\n', inputs)\n",
    "\n",
    "# 计算均值\n",
    "mean = torch.mean(inputs, dim=(0, 1) , keepdim=True)\n",
    "print('均值:\\n', mean)\n",
    "std = torch.std(inputs, dim=(0, 1), keepdim=True, unbiased=False)\n",
    "print('标准差:\\n', std, '\\n')\n",
    "\n",
    "# torch自带的batchnorm\n",
    "torch_bn = nn.BatchNorm1d(num_features=hidden_size, affine=True)  # 注意完整的batchnorm要包括仿射变换\n",
    "\n",
    "# # 把仿射变换的缩放和平移替换为标准差和均值\n",
    "torch_bn.weight = nn.Parameter(torch.squeeze(std))\n",
    "torch_bn.bias =  nn.Parameter(torch.squeeze(mean))\n",
    "print('weight:\\n', torch_bn.weight)\n",
    "print('bias:\\n', torch_bn.bias, '\\n')\n",
    "\n",
    "# 结果\n",
    "torch_normed = torch_bn(inputs.transpose(1, 2)).transpose(1, 2)\n",
    "print('torch bn结果:\\n', torch_normed)\n",
    "\n",
    "isclose = torch.isclose(torch_normed, inputs, rtol=1e-4, atol=1e-4)\n",
    "print('验证结果:\\n', isclose)"
   ]
  },
  {
   "cell_type": "code",
   "execution_count": null,
   "id": "da896d82",
   "metadata": {},
   "outputs": [],
   "source": []
  }
 ],
 "metadata": {
  "kernelspec": {
   "display_name": "Python 3 (ipykernel)",
   "language": "python",
   "name": "python3"
  },
  "language_info": {
   "codemirror_mode": {
    "name": "ipython",
    "version": 3
   },
   "file_extension": ".py",
   "mimetype": "text/x-python",
   "name": "python",
   "nbconvert_exporter": "python",
   "pygments_lexer": "ipython3",
   "version": "3.10.9"
  }
 },
 "nbformat": 4,
 "nbformat_minor": 5
}
